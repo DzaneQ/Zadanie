{
 "cells": [
  {
   "cell_type": "code",
   "execution_count": 1,
   "id": "dad763f1",
   "metadata": {},
   "outputs": [],
   "source": [
    "# 2.2\n",
    "import time\n",
    "def pomiar_czasu(funkcja):\n",
    "    def zmierz_czas(*args, **kwargs):\n",
    "        czas = time.time_ns()\n",
    "        wynik = funkcja(*args, **kwargs)\n",
    "        czas = time.time_ns() - czas\n",
    "        print(f\"Czas wykonania funkcji {funkcja.__name__}: {czas} nanosekund\")\n",
    "        return wynik\n",
    "    return zmierz_czas"
   ]
  },
  {
   "cell_type": "code",
   "execution_count": 2,
   "id": "4c043a52",
   "metadata": {},
   "outputs": [],
   "source": [
    "# 2.1a\n",
    "@pomiar_czasu\n",
    "def zapisz_zadania(manager, nazwa_pliku):\n",
    "    with open(nazwa_pliku, 'w') as plik:\n",
    "        for zadanie in manager.lista_zadan:\n",
    "            plik.write(str(zadanie) + \"\\n\")\n",
    "        \n",
    "# 2.1b\n",
    "@pomiar_czasu\n",
    "def otworz_zadania(nazwa_pliku):\n",
    "    manager = ManagerZadan()\n",
    "    with open(nazwa_pliku, 'r') as plik:\n",
    "        wiersze = plik.readlines()\n",
    "        for linia in wiersze:\n",
    "            if len(linia) == 0:\n",
    "                continue\n",
    "            tytul, reszta = linia.split(\": \", 1)\n",
    "            opis, reszta = reszta.split(\"; termin: \")[0], reszta.split(\"; termin: \")[1]\n",
    "            termin_wykonania = reszta.split(\" [wykonane]\")[0].split(\" (\")[0]\n",
    "            wykonane = \"[wykonane]\" in reszta\n",
    "            #zadanie\n",
    "            if \" (priorytet: \" in reszta:\n",
    "                priorytet = reszta.split(\" (priorytet: \")[1].split(\")\")[0]\n",
    "                zadanie = ZadaniePriorytetowe(tytul, opis, termin_wykonania, priorytet)\n",
    "            elif \" (powtarzalność: \" in reszta:\n",
    "                powtarzalnosc = reszta.split(\" (powtarzalność: \")[1].split(\")\")[0]\n",
    "                zadanie = ZadanieRegularne(tytul, opis, termin_wykonania, powtarzalnosc)\n",
    "            else:\n",
    "                zadanie = Zadanie(tytul, opis, termin_wykonania, wykonane)\n",
    "            if wykonane:\n",
    "                manager.oznacz_jako_wykonane(zadanie)\n",
    "            manager.dodaj_zadanie(zadanie)\n",
    "    return manager"
   ]
  },
  {
   "cell_type": "code",
   "execution_count": 1,
   "id": "bbd49755",
   "metadata": {},
   "outputs": [],
   "source": [
    "# 2.4b\n",
    "#import nbformat\n",
    "#from nbconvert import HTMLExporter\n",
    "\n",
    "#def udokumentuj_html(nazwa_pliku):\n",
    "#    with open(f'{nazwa_pliku}.ipynb', 'r', encoding='utf-8') as plik:\n",
    "#        zawartosc = nbformat.read(plik, as_version=4)\n",
    "#    html_exporter = HTMLExporter()\n",
    "#    (html_wyjscie, zasoby) = html_exporter.from_notebook_node(zawartosc)\n",
    "#    with open(f'{nazwa_pliku}.html', 'w', encoding='utf-8') as dokument:\n",
    "#        dokument.write(html_wyjscie)\n",
    "        \n",
    "#udokumentuj_html(\"Zadanie1\")\n",
    "#udokumentuj_html(\"Zadanie1a\")\n",
    "#udokumentuj_html(\"Zadanie2\")"
   ]
  },
  {
   "cell_type": "code",
   "execution_count": null,
   "id": "411f7b1d",
   "metadata": {},
   "outputs": [],
   "source": [
    "# 2.4b\n",
    "from nbconvert import PythonExporter\n",
    "import nbformat\n",
    "import pydoc\n",
    "\n",
    "def udokumentuj_py_html(nazwa_pliku):\n",
    "    with open(f'{nazwa_pliku}.ipynb', 'r', encoding='utf-8') as plik:\n",
    "        zawartosc = nbformat.read(plik, as_version=4)\n",
    "    py_exporter = PythonExporter()\n",
    "    (py_wyjscie, zasoby) = py_exporter.from_notebook_node(zawartosc)\n",
    "    with open (f'{nazwa_pliku}.py', 'w', encoding='utf-8') as dokument:\n",
    "        dokument.write(py_wyjscie)\n",
    "    pydoc.writedoc(nazwa_pliku, f'{nazwa_pliku}.html')\n",
    "\n",
    "udokumentuj_py_html(\"Zadanie1\")\n",
    "udokumentuj_py_html(\"Zadanie2\")\n",
    "udokumentuj_py_html(\"Zadanie1a\")"
   ]
  },
  {
   "cell_type": "code",
   "execution_count": null,
   "id": "288ca163-74c3-4188-92b8-9bfa22bb8864",
   "metadata": {},
   "outputs": [],
   "source": []
  }
 ],
 "metadata": {
  "kernelspec": {
   "display_name": "Python 3 (ipykernel)",
   "language": "python",
   "name": "python3"
  },
  "language_info": {
   "codemirror_mode": {
    "name": "ipython",
    "version": 3
   },
   "file_extension": ".py",
   "mimetype": "text/x-python",
   "name": "python",
   "nbconvert_exporter": "python",
   "pygments_lexer": "ipython3",
   "version": "3.9.18"
  }
 },
 "nbformat": 4,
 "nbformat_minor": 5
}
